{
 "cells": [
  {
   "cell_type": "code",
   "execution_count": 1,
   "metadata": {},
   "outputs": [],
   "source": [
    "import numpy as np\n",
    "import matplotlib.pyplot as plt\n",
    "import string\n",
    "from PIL import Image\n",
    "import pickle\n",
    "\n",
    "from keras.layers import LSTM, Embedding, Dense, Reshape, Dropout\n",
    "from keras.optimizers import Adam\n",
    "from keras.layers.merge import add\n",
    "from keras.applications.inception_v3 import InceptionV3\n",
    "from keras.preprocessing import image\n",
    "from keras.models import Model\n",
    "from keras import Input, layers\n",
    "from keras.applications.inception_v3 import preprocess_input\n",
    "from keras.preprocessing.sequence import pad_sequences\n",
    "from keras.utils import to_categorical\n",
    "from nltk.translate.bleu_score import corpus_bleu"
   ]
  },
  {
   "cell_type": "code",
   "execution_count": 2,
   "metadata": {},
   "outputs": [
    {
     "name": "stdout",
     "output_type": "stream",
     "text": [
      "1000268201_693b08cb0e.jpg#0\tA child in a pink dress is climbing up a set of stairs in an entry way .\n",
      "1000268201_693b08cb0e.jpg#1\tA girl going into a wooden building .\n",
      "1000268201_693b08cb0e.jpg#2\tA little girl climbing into a wooden playhouse .\n",
      "1000268201_693b08cb0e.jpg#3\tA little girl climbing the stairs to her playhouse .\n",
      "1000268201_693b08cb0e.jpg#4\tA little girl in a pink dress going into a wooden cabin .\n",
      "\n"
     ]
    }
   ],
   "source": [
    "filename = 'Flickr8k_text/Flickr8k.token.txt'\n",
    "file = open(filename, 'r')\n",
    "doc = file.read()\n",
    "print(doc[:411])"
   ]
  },
  {
   "cell_type": "code",
   "execution_count": 3,
   "metadata": {
    "scrolled": true
   },
   "outputs": [
    {
     "name": "stdout",
     "output_type": "stream",
     "text": [
      "Loaded: 8092 \n"
     ]
    }
   ],
   "source": [
    "def load_descriptions(doc):\n",
    "    d = dict()\n",
    "\n",
    "    for line in doc.split('\\n'):\n",
    "        if line == '':\n",
    "            continue\n",
    "        word = line.split()\n",
    "        index = word[0]\n",
    "        index = index.split('#')\n",
    "        index = index[0]\n",
    "        #print(index)\n",
    "        caption = word[1:]\n",
    "        caption = ' '.join(caption)\n",
    "        \n",
    "        if index not in d:\n",
    "            d[index] = []\n",
    "        d[index].append(caption)\n",
    "        \n",
    "    return d\n",
    "\n",
    "descriptions = load_descriptions(doc)\n",
    "print('Loaded: {} '.format(len(descriptions)))"
   ]
  },
  {
   "cell_type": "code",
   "execution_count": 4,
   "metadata": {},
   "outputs": [],
   "source": [
    "def clean_descriptions(descriptions):\n",
    "    table = str.maketrans('', '', string.punctuation)\n",
    "    \n",
    "    for key, value in descriptions.items():\n",
    "        for i in range(len(value)):\n",
    "            cap = value[i]\n",
    "            cap = cap.split()\n",
    "\n",
    "            cap = [word.lower() for word in cap]\n",
    "            cap = [w.translate(table) for w in cap]\n",
    "            cap = [word for word in cap if len(word) > 1]\n",
    "            cap = [word for word in cap if word.isalpha()]\n",
    "            value[i] =  ' '.join(cap)\n",
    "\n",
    "clean_descriptions(descriptions)"
   ]
  },
  {
   "cell_type": "code",
   "execution_count": 5,
   "metadata": {},
   "outputs": [
    {
     "name": "stdout",
     "output_type": "stream",
     "text": [
      "Original Vocabulary Size: 8763\n"
     ]
    }
   ],
   "source": [
    "def to_vocabulary(descriptions):\n",
    "    vocab = set()\n",
    "    for i in descriptions.values():\n",
    "        for j in range(len(i)):\n",
    "            v = i[j].split()\n",
    "            vocab.update(v)\n",
    "    return vocab\n",
    "\n",
    "vocabulary = to_vocabulary(descriptions)\n",
    "print('Original Vocabulary Size: %d' % len(vocabulary))"
   ]
  },
  {
   "cell_type": "code",
   "execution_count": 6,
   "metadata": {},
   "outputs": [
    {
     "name": "stdout",
     "output_type": "stream",
     "text": [
      "Training Data: 6000\n",
      "Test Data: 1000\n"
     ]
    }
   ],
   "source": [
    "def load_index_path(filename, images):\n",
    "    file = open(filename, 'r')\n",
    "    doc = file.read()\n",
    "    image_index = []\n",
    "    image_path = []\n",
    "    for line in doc.split('\\n'):\n",
    "        if line == '':\n",
    "            continue\n",
    "        word = line.split()\n",
    "        index = word[0]\n",
    "        path = images + index\n",
    "        \n",
    "        if index in image_index: \n",
    "            continue\n",
    "        else:\n",
    "            image_index.append(index)\n",
    "            \n",
    "        if path in image_path: \n",
    "            continue\n",
    "        else:\n",
    "            image_path.append(path)\n",
    "        \n",
    "    return image_index, image_path\n",
    "\n",
    "train_path = 'Flickr8k_text/Flickr_8k.trainImages.txt'\n",
    "test_path = 'Flickr8k_text/Flickr_8k.testImages.txt'\n",
    "images = 'Flicker8k_Dataset/'\n",
    "\n",
    "train_index, train_path = load_index_path(train_path, images)\n",
    "test_index, test_path = load_index_path(test_path, images)\n",
    "\n",
    "print('Training Data: {}'.format(len(train_path)))\n",
    "print('Test Data: {}'.format(len(test_path)))"
   ]
  },
  {
   "cell_type": "code",
   "execution_count": 7,
   "metadata": {},
   "outputs": [
    {
     "name": "stdout",
     "output_type": "stream",
     "text": [
      "Training descriptions: 6000\n",
      "Test descriptions: 1000\n"
     ]
    }
   ],
   "source": [
    "def tr_descriptions(descriptions, tr_index):\n",
    "    tr_descriptions = {}\n",
    "    \n",
    "    for i in range(len(tr_index)):\n",
    "        if tr_index[i] in descriptions:\n",
    "            tr_descriptions[tr_index[i]] = descriptions[tr_index[i]]\n",
    "            \n",
    "            for j in range(len(tr_descriptions[tr_index[i]])):\n",
    "                tr_descriptions[tr_index[i]][j] = 'startseq ' + tr_descriptions[tr_index[i]][j] + ' endseq'\n",
    "                \n",
    "        else:\n",
    "            continue\n",
    "                \n",
    "    return tr_descriptions\n",
    "    \n",
    "train_descriptions = tr_descriptions(descriptions, train_index)\n",
    "print('Training descriptions: {}'.format(len(train_descriptions)))\n",
    "\n",
    "test_descriptions = tr_descriptions(descriptions, test_index)\n",
    "print('Test descriptions: {}'.format(len(test_descriptions)))"
   ]
  },
  {
   "cell_type": "code",
   "execution_count": 8,
   "metadata": {},
   "outputs": [],
   "source": [
    "model = InceptionV3(weights='imagenet')"
   ]
  },
  {
   "cell_type": "code",
   "execution_count": 9,
   "metadata": {},
   "outputs": [],
   "source": [
    "model_new = Model(model.input, model.layers[-2].output)"
   ]
  },
  {
   "cell_type": "code",
   "execution_count": 10,
   "metadata": {},
   "outputs": [],
   "source": [
    "def encode(image_path):\n",
    "    image = image.load_img(image_path, target_size=(299, 299))\n",
    "    image = image.img_to_array(image)\n",
    "    image = np.expand_dims(image, axis=0)\n",
    "    image = preprocess_input(image)\n",
    "    feature = model_new.predict(image)\n",
    "    feature = np.reshape(feature, feature.shape[1])\n",
    "    return feature"
   ]
  },
  {
   "cell_type": "code",
   "execution_count": null,
   "metadata": {},
   "outputs": [],
   "source": [
    "encoding_train = {}\n",
    "encoding_test = {}\n",
    "encoding_dev = {}\n",
    "\n",
    "for img in train_path:\n",
    "      encoding_train[img[len(images):]] = encode(img) \n",
    "                                                           \n",
    "for img in test_path:\n",
    "    encoding_test[img[len(images):]] = encode(img)"
   ]
  },
  {
   "cell_type": "code",
   "execution_count": null,
   "metadata": {},
   "outputs": [],
   "source": [
    "with open('encode/encoding_train.pkl', 'wb') as f:\n",
    "    pickle.dump(encoding_train, f)\n",
    "    \n",
    "with open('encode/encoding_test.pkl', 'wb') as f:\n",
    "    pickle.dump(encoding_test, f)"
   ]
  },
  {
   "cell_type": "code",
   "execution_count": 11,
   "metadata": {},
   "outputs": [
    {
     "name": "stdout",
     "output_type": "stream",
     "text": [
      "Train photos: 6000\n",
      "Test photos: 1000\n"
     ]
    }
   ],
   "source": [
    "train_features = pickle.load(open('encode/encoding_train.pkl', \"rb\"))\n",
    "print('Train photos: {}'.format(len(train_features)))\n",
    "\n",
    "test_features = pickle.load(open('encode/encoding_test.pkl', \"rb\"))\n",
    "print('Test photos: {}'.format(len(test_features)))"
   ]
  },
  {
   "cell_type": "code",
   "execution_count": 12,
   "metadata": {},
   "outputs": [
    {
     "data": {
      "text/plain": [
       "30000"
      ]
     },
     "execution_count": 12,
     "metadata": {},
     "output_type": "execute_result"
    }
   ],
   "source": [
    "def caption_list(descriptions):\n",
    "    captions = []\n",
    "\n",
    "    for keys, values in descriptions.items():\n",
    "        for caption in values:\n",
    "            captions.append(caption)\n",
    "\n",
    "    return captions\n",
    "\n",
    "all_train_captions = caption_list(train_descriptions)\n",
    "len(all_train_captions)"
   ]
  },
  {
   "cell_type": "code",
   "execution_count": 13,
   "metadata": {},
   "outputs": [
    {
     "name": "stdout",
     "output_type": "stream",
     "text": [
      "Preprocessed words 7578 -> 1651\n"
     ]
    }
   ],
   "source": [
    "atleast = 10\n",
    "word_counts = {}\n",
    "\n",
    "for i in all_train_captions:\n",
    "    word = i.split()\n",
    "    for j in word:\n",
    "        word_counts[j] = word_counts.get(j, 0) + 1\n",
    "\n",
    "vocab = [key for key, values in word_counts.items() if values >= atleast]\n",
    "print('Preprocessed words {} -> {}'.format(len(word_counts), len(vocab)))"
   ]
  },
  {
   "cell_type": "code",
   "execution_count": 14,
   "metadata": {},
   "outputs": [],
   "source": [
    "index_word = {}\n",
    "word_index = {}\n",
    "\n",
    "for count, v in enumerate(vocab, start = 1):\n",
    "    index_word[count] = v\n",
    "    word_index[v] = count"
   ]
  },
  {
   "cell_type": "code",
   "execution_count": 15,
   "metadata": {},
   "outputs": [
    {
     "data": {
      "text/plain": [
       "1652"
      ]
     },
     "execution_count": 15,
     "metadata": {},
     "output_type": "execute_result"
    }
   ],
   "source": [
    "vocab_size = len(index_word) + 1 \n",
    "vocab_size"
   ]
  },
  {
   "cell_type": "code",
   "execution_count": 16,
   "metadata": {},
   "outputs": [
    {
     "name": "stdout",
     "output_type": "stream",
     "text": [
      "Max description length: 34\n"
     ]
    }
   ],
   "source": [
    "max_length = max(len(i.split()) for i in all_train_captions)\n",
    "print('Max description length: {}'.format(max_length))"
   ]
  },
  {
   "cell_type": "code",
   "execution_count": 17,
   "metadata": {},
   "outputs": [],
   "source": [
    "def data_generator(descriptions, photos, word_index, max_length, num_photos_per_batch):\n",
    "    X1, X2, y = list(), list(), list()\n",
    "    n = 0\n",
    "\n",
    "    while 1:\n",
    "        for key, desc_list in descriptions.items():\n",
    "            n += 1\n",
    "            photo = photos[key]\n",
    "            for desc in desc_list:\n",
    "                seq = [word_index[word] for word in desc.split(' ') if word in word_index]\n",
    "\n",
    "                for i in range(1, len(seq)):\n",
    "                    in_seq, out_seq = seq[:i], seq[i]\n",
    "                    in_seq = pad_sequences([in_seq], maxlen = max_length)[0]\n",
    "                    out_seq = to_categorical([out_seq], num_classes = vocab_size)[0]\n",
    "\n",
    "                    X1.append(photo)\n",
    "                    X2.append(in_seq)\n",
    "                    y.append(out_seq)\n",
    "\n",
    "            if n == num_photos_per_batch:\n",
    "                yield [np.array(X1), np.array(X2)], np.array(y)\n",
    "                X1, X2, y = list(), list(), list()\n",
    "                n = 0"
   ]
  },
  {
   "cell_type": "code",
   "execution_count": 18,
   "metadata": {},
   "outputs": [],
   "source": [
    "inputs1 = Input(shape=(2048,))\n",
    "\n",
    "fe1 = Dropout(0.5)(inputs1) \n",
    "\n",
    "fe2 = Dense(256, activation='relu')(fe1) \n",
    "\n",
    "inputs2 = Input(shape=(max_length,))\n",
    "\n",
    "se1 = Embedding(vocab_size, 256, mask_zero=True)(inputs2)\n",
    "\n",
    "se2 = Dropout(0.5)(se1)\n",
    "\n",
    "se3 = LSTM(256)(se2)   \n",
    "\n",
    "decoder1 = add([fe2, se3])  \n",
    "\n",
    "decoder2 = Dense(256, activation='relu')(decoder1)\n",
    "\n",
    "outputs = Dense(vocab_size, activation='softmax')(decoder2)\n",
    "\n",
    "model = Model(inputs=[inputs1, inputs2], outputs=outputs)"
   ]
  },
  {
   "cell_type": "code",
   "execution_count": 19,
   "metadata": {},
   "outputs": [
    {
     "name": "stdout",
     "output_type": "stream",
     "text": [
      "Model: \"functional_3\"\n",
      "__________________________________________________________________________________________________\n",
      "Layer (type)                    Output Shape         Param #     Connected to                     \n",
      "==================================================================================================\n",
      "input_3 (InputLayer)            [(None, 34)]         0                                            \n",
      "__________________________________________________________________________________________________\n",
      "input_2 (InputLayer)            [(None, 2048)]       0                                            \n",
      "__________________________________________________________________________________________________\n",
      "embedding (Embedding)           (None, 34, 256)      422912      input_3[0][0]                    \n",
      "__________________________________________________________________________________________________\n",
      "dropout (Dropout)               (None, 2048)         0           input_2[0][0]                    \n",
      "__________________________________________________________________________________________________\n",
      "dropout_1 (Dropout)             (None, 34, 256)      0           embedding[0][0]                  \n",
      "__________________________________________________________________________________________________\n",
      "dense (Dense)                   (None, 256)          524544      dropout[0][0]                    \n",
      "__________________________________________________________________________________________________\n",
      "lstm (LSTM)                     (None, 256)          525312      dropout_1[0][0]                  \n",
      "__________________________________________________________________________________________________\n",
      "add (Add)                       (None, 256)          0           dense[0][0]                      \n",
      "                                                                 lstm[0][0]                       \n",
      "__________________________________________________________________________________________________\n",
      "dense_1 (Dense)                 (None, 256)          65792       add[0][0]                        \n",
      "__________________________________________________________________________________________________\n",
      "dense_2 (Dense)                 (None, 1652)         424564      dense_1[0][0]                    \n",
      "==================================================================================================\n",
      "Total params: 1,963,124\n",
      "Trainable params: 1,963,124\n",
      "Non-trainable params: 0\n",
      "__________________________________________________________________________________________________\n"
     ]
    }
   ],
   "source": [
    "model.summary()"
   ]
  },
  {
   "cell_type": "code",
   "execution_count": 20,
   "metadata": {},
   "outputs": [],
   "source": [
    "model.compile(loss='categorical_crossentropy', optimizer='adam')"
   ]
  },
  {
   "cell_type": "code",
   "execution_count": 21,
   "metadata": {},
   "outputs": [],
   "source": [
    "epochs = 30\n",
    "batch = 4\n",
    "steps = len(train_descriptions)//batch"
   ]
  },
  {
   "cell_type": "code",
   "execution_count": null,
   "metadata": {
    "scrolled": true
   },
   "outputs": [],
   "source": [
    "generator = data_generator(train_descriptions, train_features, word_index, max_length, batch)\n",
    "model.fit(generator, epochs = epochs, steps_per_epoch = steps, verbose = 1)"
   ]
  },
  {
   "cell_type": "code",
   "execution_count": null,
   "metadata": {},
   "outputs": [],
   "source": [
    "model.save_weights('model_weights\\model_batch4_30.h5') "
   ]
  },
  {
   "cell_type": "code",
   "execution_count": null,
   "metadata": {},
   "outputs": [],
   "source": [
    "model.load_weights('model_weights\\model_batch4_30.h5')"
   ]
  },
  {
   "cell_type": "code",
   "execution_count": null,
   "metadata": {},
   "outputs": [],
   "source": [
    "model.optimizer.lr = 0.0001\n",
    "epochs = 30\n",
    "batch = 8\n",
    "steps = len(train_descriptions)//batch"
   ]
  },
  {
   "cell_type": "code",
   "execution_count": null,
   "metadata": {
    "scrolled": true
   },
   "outputs": [],
   "source": [
    "generator = data_generator(train_descriptions, train_features, word_index, max_length, batch)\n",
    "model.fit(generator, epochs = epochs, steps_per_epoch = steps, verbose = 1)"
   ]
  },
  {
   "cell_type": "code",
   "execution_count": null,
   "metadata": {},
   "outputs": [],
   "source": [
    "model.save_weights('model_weights\\model_batch4_60.h5')"
   ]
  },
  {
   "cell_type": "code",
   "execution_count": null,
   "metadata": {},
   "outputs": [],
   "source": [
    "model.load_weights('model_weights\\model_batch4_60.h5')"
   ]
  },
  {
   "cell_type": "code",
   "execution_count": null,
   "metadata": {},
   "outputs": [],
   "source": [
    "model.optimizer.lr = 0.0001\n",
    "epochs = 30\n",
    "batch = 12\n",
    "steps = len(train_descriptions)//batch"
   ]
  },
  {
   "cell_type": "code",
   "execution_count": null,
   "metadata": {
    "scrolled": true
   },
   "outputs": [],
   "source": [
    "generator = data_generator(train_descriptions, train_features, word_index, max_length, batch)\n",
    "model.fit(generator, epochs = epochs, steps_per_epoch = steps, verbose = 1)"
   ]
  },
  {
   "cell_type": "code",
   "execution_count": null,
   "metadata": {},
   "outputs": [],
   "source": [
    "model.save_weights('model_weights\\model_batch4_90.h5')"
   ]
  },
  {
   "cell_type": "code",
   "execution_count": 22,
   "metadata": {},
   "outputs": [],
   "source": [
    "model.load_weights('model_weights\\model_batch4_90.h5')"
   ]
  },
  {
   "cell_type": "code",
   "execution_count": 23,
   "metadata": {},
   "outputs": [],
   "source": [
    "def generate_captions(photo):\n",
    "    in_text = 'startseq'\n",
    "    for i in range(max_length):\n",
    "        sequence = [word_index[w] for w in in_text.split() if w in word_index]\n",
    "        sequence = pad_sequences([sequence], maxlen=max_length)\n",
    "        yhat = model.predict([photo,sequence], verbose=0)\n",
    "        yhat = np.argmax(yhat)\n",
    "        word = index_word[yhat]\n",
    "        in_text += ' ' + word\n",
    "        if word == 'endseq':\n",
    "            break\n",
    "    final = in_text.split()\n",
    "    final = final[1:-1]\n",
    "    final = ' '.join(final)\n",
    "    return final"
   ]
  },
  {
   "cell_type": "code",
   "execution_count": 29,
   "metadata": {},
   "outputs": [
    {
     "data": {
      "image/png": "[encoded data removed]",
      "text/plain": [
       "<Figure size 432x288 with 1 Axes>"
      ]
     },
     "metadata": {
      "needs_background": "light"
     },
     "output_type": "display_data"
    },
    {
     "name": "stdout",
     "output_type": "stream",
     "text": [
      "Caption: three young women are sitting on the ground\n"
     ]
    }
   ],
   "source": [
    "n = np.random.randint(1000)\n",
    "pic = list(test_features.keys())[n]\n",
    "image = test_features[pic].reshape((1,2048))\n",
    "x = plt.imread(images+pic)\n",
    "plt.imshow(x)\n",
    "plt.show()\n",
    "print(\"Caption:\", generate_captions(image))"
   ]
  },
  {
   "cell_type": "code",
   "execution_count": null,
   "metadata": {},
   "outputs": [],
   "source": []
  }
 ],
 "metadata": {
  "kernelspec": {
   "display_name": "Python 3",
   "language": "python",
   "name": "python3"
  },
  "language_info": {
   "codemirror_mode": {
    "name": "ipython",
    "version": 3
   },
   "file_extension": ".py",
   "mimetype": "text/x-python",
   "name": "python",
   "nbconvert_exporter": "python",
   "pygments_lexer": "ipython3",
   "version": "3.7.6"
  }
 },
 "nbformat": 4,
 "nbformat_minor": 4
}
